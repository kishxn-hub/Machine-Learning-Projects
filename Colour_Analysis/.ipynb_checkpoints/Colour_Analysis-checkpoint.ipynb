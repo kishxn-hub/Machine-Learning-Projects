{
 "cells": [
  {
   "cell_type": "code",
   "execution_count": 1,
   "id": "6121de3a",
   "metadata": {},
   "outputs": [],
   "source": [
    "from collections import Counter\n",
    "from sklearn.cluster import KMeans   \n",
    "from matplotlib import colors\n",
    "import matplotlib.pyplot as plt\n",
    "import numpy as np\n",
    "import cv2"
   ]
  },
  {
   "cell_type": "code",
   "execution_count": 2,
   "id": "40d9e2a8",
   "metadata": {},
   "outputs": [],
   "source": [
    "def rgb_to_hex(rgb_color):  #int values to hex values\n",
    "    hex_color = '#'\n",
    "    for i in rgb_color:\n",
    "        i=int(i)\n",
    "        hex_color += (\"{:02x}\".format(i))\n",
    "    return hex_color"
   ]
  },
  {
   "cell_type": "code",
   "execution_count": 3,
   "id": "2ab97c7f",
   "metadata": {},
   "outputs": [
    {
     "data": {
      "text/plain": [
       "'#ff0000'"
      ]
     },
     "execution_count": 3,
     "metadata": {},
     "output_type": "execute_result"
    }
   ],
   "source": [
    "rgb_to_hex((255,0,0))"
   ]
  },
  {
   "cell_type": "code",
   "execution_count": 4,
   "id": "8d83fa53",
   "metadata": {},
   "outputs": [],
   "source": [
    "img_name = 'img7.jpg'\n",
    "raw_image = cv2.imread(img_name)\n",
    "raw_image = cv2.cvtColor(raw_image, cv2.COLOR_BGR2RGB)  #cv2 will read in BGR format so convert to RGB format"
   ]
  },
  {
   "cell_type": "code",
   "execution_count": 5,
   "id": "a527591e",
   "metadata": {},
   "outputs": [
    {
     "data": {
      "text/plain": [
       "(600, 900, 3)"
      ]
     },
     "execution_count": 5,
     "metadata": {},
     "output_type": "execute_result"
    }
   ],
   "source": [
    "img = cv2.resize(raw_image, (900,600), interpolation=cv2.INTER_AREA) #specifying particular height width for image\n",
    "img.shape                                                            #inter area for reducing size"
   ]
  },
  {
   "cell_type": "code",
   "execution_count": 6,
   "id": "5f5a774b",
   "metadata": {},
   "outputs": [
    {
     "data": {
      "text/plain": [
       "(540000, 3)"
      ]
     },
     "execution_count": 6,
     "metadata": {},
     "output_type": "execute_result"
    }
   ],
   "source": [
    "img=img.reshape(img.shape[0]*img.shape[1],3)                         #to get 2 dimensional array and provide to KMeans\n",
    "img.shape                                                            #reshaping the array without changing the data"
   ]
  },
  {
   "cell_type": "code",
   "execution_count": 7,
   "id": "cc7a8256",
   "metadata": {
    "scrolled": true
   },
   "outputs": [
    {
     "data": {
      "text/plain": [
       "array([[ 73, 101, 128],\n",
       "       [161, 193, 223],\n",
       "       [158, 194, 228],\n",
       "       ...,\n",
       "       [ 54,  79, 120],\n",
       "       [ 54,  80, 118],\n",
       "       [ 25,  51,  89]], dtype=uint8)"
      ]
     },
     "execution_count": 7,
     "metadata": {},
     "output_type": "execute_result"
    }
   ],
   "source": [
    "img"
   ]
  },
  {
   "cell_type": "code",
   "execution_count": 8,
   "id": "695a44fb",
   "metadata": {},
   "outputs": [],
   "source": [
    "clf = KMeans(n_clusters=5)     #number of colors to display or number of groups\n",
    "color_labels = clf.fit_predict(img)  #analysis of colors or all colors getting grouped\n",
    "center_colors=clf.cluster_centers_   #getting centroids(or common color) from each cluster or group "
   ]
  },
  {
   "cell_type": "code",
   "execution_count": 9,
   "id": "a84a31d7",
   "metadata": {},
   "outputs": [
    {
     "data": {
      "text/plain": [
       "array([2, 0, 0, ..., 2, 2, 1])"
      ]
     },
     "execution_count": 9,
     "metadata": {},
     "output_type": "execute_result"
    }
   ],
   "source": [
    "color_labels"
   ]
  },
  {
   "cell_type": "code",
   "execution_count": 10,
   "id": "6f9aa214",
   "metadata": {},
   "outputs": [
    {
     "data": {
      "text/plain": [
       "array([[187.16072569, 222.52498403, 239.51065515],\n",
       "       [ 27.00790338,  20.68180953,  28.45049277],\n",
       "       [ 74.7880691 , 106.10447737, 174.12788495],\n",
       "       [201.88256536, 169.33253544, 125.30672087],\n",
       "       [135.87454444, 105.10070531,  71.11625863]])"
      ]
     },
     "execution_count": 10,
     "metadata": {},
     "output_type": "execute_result"
    }
   ],
   "source": [
    "center_colors       #top 5 colors or centroids"
   ]
  },
  {
   "cell_type": "code",
   "execution_count": 11,
   "id": "b734ffc2",
   "metadata": {},
   "outputs": [
    {
     "data": {
      "text/plain": [
       "Counter({2: 121932, 0: 150298, 3: 48460, 4: 93290, 1: 126020})"
      ]
     },
     "execution_count": 11,
     "metadata": {},
     "output_type": "execute_result"
    }
   ],
   "source": [
    "counts = Counter(color_labels)  #number of elements in each cluster\n",
    "counts"
   ]
  },
  {
   "cell_type": "code",
   "execution_count": 12,
   "id": "31239007",
   "metadata": {},
   "outputs": [
    {
     "data": {
      "text/plain": [
       "['#c9a97d', '#4a6aae', '#876947', '#1b141c', '#bbdeef']"
      ]
     },
     "execution_count": 12,
     "metadata": {},
     "output_type": "execute_result"
    }
   ],
   "source": [
    "ordered_colors = [center_colors[i] for i in counts.keys()]  #reading colors to o_c\n",
    "hex_colors = [rgb_to_hex(ordered_colors[i]) for i in counts.keys()] #converting to hex\n",
    "hex_colors"
   ]
  },
  {
   "cell_type": "code",
   "execution_count": 13,
   "id": "704f549d",
   "metadata": {},
   "outputs": [
    {
     "data": {
      "image/png": "[encoded data removed]",
      "text/plain": [
       "<Figure size 864x576 with 1 Axes>"
      ]
     },
     "metadata": {},
     "output_type": "display_data"
    }
   ],
   "source": [
    "plt.figure(figsize=(12,8))\n",
    "plt.title(\"Pie Chart\")\n",
    "plt.pie(counts.values(), labels=hex_colors, colors=hex_colors)\n",
    "plt.savefig(f'{img_name[:-4]}-analysis.png') #f for expressions inside()"
   ]
  },
  {
   "cell_type": "code",
   "execution_count": null,
   "id": "a5abb072",
   "metadata": {},
   "outputs": [],
   "source": []
  }
 ],
 "metadata": {
  "kernelspec": {
   "display_name": "Python 3 (ipykernel)",
   "language": "python",
   "name": "python3"
  },
  "language_info": {
   "codemirror_mode": {
    "name": "ipython",
    "version": 3
   },
   "file_extension": ".py",
   "mimetype": "text/x-python",
   "name": "python",
   "nbconvert_exporter": "python",
   "pygments_lexer": "ipython3",
   "version": "3.9.7"
  }
 },
 "nbformat": 4,
 "nbformat_minor": 5
}
